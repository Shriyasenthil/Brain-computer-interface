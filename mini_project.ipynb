{
  "cells": [
    {
      "cell_type": "markdown",
      "metadata": {
        "id": "view-in-github",
        "colab_type": "text"
      },
      "source": [
        "<a href=\"https://colab.research.google.com/github/Shriyasenthil/Brain-computer-interface/blob/master/mini_project.ipynb\" target=\"_parent\"><img src=\"https://colab.research.google.com/assets/colab-badge.svg\" alt=\"Open In Colab\"/></a>"
      ]
    },
    {
      "cell_type": "code",
      "execution_count": 2,
      "metadata": {
        "colab": {
          "base_uri": "https://localhost:8080/"
        },
        "id": "wAIqBOy_PoGu",
        "outputId": "c5c411a0-f681-40a0-a646-b95f5d0f85a8"
      },
      "outputs": [
        {
          "output_type": "stream",
          "name": "stdout",
          "text": [
            "Collecting virtualenv\n",
            "  Downloading virtualenv-20.24.6-py3-none-any.whl (3.8 MB)\n",
            "\u001b[2K     \u001b[90m━━━━━━━━━━━━━━━━━━━━━━━━━━━━━━━━━━━━━━━━\u001b[0m \u001b[32m3.8/3.8 MB\u001b[0m \u001b[31m19.0 MB/s\u001b[0m eta \u001b[36m0:00:00\u001b[0m\n",
            "\u001b[?25hCollecting distlib<1,>=0.3.7 (from virtualenv)\n",
            "  Downloading distlib-0.3.7-py2.py3-none-any.whl (468 kB)\n",
            "\u001b[2K     \u001b[90m━━━━━━━━━━━━━━━━━━━━━━━━━━━━━━━━━━━━━━━━\u001b[0m \u001b[32m468.9/468.9 kB\u001b[0m \u001b[31m28.6 MB/s\u001b[0m eta \u001b[36m0:00:00\u001b[0m\n",
            "\u001b[?25hRequirement already satisfied: filelock<4,>=3.12.2 in /usr/local/lib/python3.10/dist-packages (from virtualenv) (3.13.1)\n",
            "Collecting platformdirs<4,>=3.9.1 (from virtualenv)\n",
            "  Downloading platformdirs-3.11.0-py3-none-any.whl (17 kB)\n",
            "Installing collected packages: distlib, platformdirs, virtualenv\n",
            "  Attempting uninstall: platformdirs\n",
            "    Found existing installation: platformdirs 4.0.0\n",
            "    Uninstalling platformdirs-4.0.0:\n",
            "      Successfully uninstalled platformdirs-4.0.0\n",
            "Successfully installed distlib-0.3.7 platformdirs-3.11.0 virtualenv-20.24.6\n",
            "created virtual environment CPython3.10.12.final.0-64 in 1426ms\n",
            "  creator CPython3Posix(dest=/content/theanoEnv, clear=False, no_vcs_ignore=False, global=False)\n",
            "  seeder FromAppData(download=False, pip=bundle, setuptools=bundle, wheel=bundle, via=copy, app_data_dir=/root/.local/share/virtualenv)\n",
            "    added seed packages: pip==23.3.1, setuptools==68.2.2, wheel==0.41.2\n",
            "  activators BashActivator,CShellActivator,FishActivator,NushellActivator,PowerShellActivator,PythonActivator\n"
          ]
        }
      ],
      "source": [
        "!pip3 install virtualenv\n",
        "!virtualenv theanoEnv"
      ]
    },
    {
      "cell_type": "code",
      "execution_count": 3,
      "metadata": {
        "colab": {
          "base_uri": "https://localhost:8080/"
        },
        "id": "OO4zuPbJPyaW",
        "outputId": "c49af70a-6ed6-4829-8d82-c4ebb926e763"
      },
      "outputs": [
        {
          "output_type": "stream",
          "name": "stdout",
          "text": [
            "Collecting theano\n",
            "  Downloading Theano-1.0.5.tar.gz (2.8 MB)\n",
            "\u001b[2K     \u001b[90m━━━━━━━━━━━━━━━━━━━━━━━━━━━━━━━━━━━━━━━━\u001b[0m \u001b[32m2.8/2.8 MB\u001b[0m \u001b[31m15.0 MB/s\u001b[0m eta \u001b[36m0:00:00\u001b[0m\n",
            "\u001b[?25h  Preparing metadata (setup.py) ... \u001b[?25l\u001b[?25hdone\n",
            "Collecting numpy>=1.9.1 (from theano)\n",
            "  Downloading numpy-1.26.2-cp310-cp310-manylinux_2_17_x86_64.manylinux2014_x86_64.whl.metadata (61 kB)\n",
            "\u001b[2K     \u001b[90m━━━━━━━━━━━━━━━━━━━━━━━━━━━━━━━━━━━━━━━━\u001b[0m \u001b[32m61.2/61.2 kB\u001b[0m \u001b[31m4.4 MB/s\u001b[0m eta \u001b[36m0:00:00\u001b[0m\n",
            "\u001b[?25hCollecting scipy>=0.14 (from theano)\n",
            "  Downloading scipy-1.11.3-cp310-cp310-manylinux_2_17_x86_64.manylinux2014_x86_64.whl.metadata (60 kB)\n",
            "\u001b[2K     \u001b[90m━━━━━━━━━━━━━━━━━━━━━━━━━━━━━━━━━━━━━━━━\u001b[0m \u001b[32m60.4/60.4 kB\u001b[0m \u001b[31m4.4 MB/s\u001b[0m eta \u001b[36m0:00:00\u001b[0m\n",
            "\u001b[?25hCollecting six>=1.9.0 (from theano)\n",
            "  Downloading six-1.16.0-py2.py3-none-any.whl (11 kB)\n",
            "Downloading numpy-1.26.2-cp310-cp310-manylinux_2_17_x86_64.manylinux2014_x86_64.whl (18.2 MB)\n",
            "\u001b[2K   \u001b[90m━━━━━━━━━━━━━━━━━━━━━━━━━━━━━━━━━━━━━━━━\u001b[0m \u001b[32m18.2/18.2 MB\u001b[0m \u001b[31m61.6 MB/s\u001b[0m eta \u001b[36m0:00:00\u001b[0m\n",
            "\u001b[?25hDownloading scipy-1.11.3-cp310-cp310-manylinux_2_17_x86_64.manylinux2014_x86_64.whl (36.4 MB)\n",
            "\u001b[2K   \u001b[90m━━━━━━━━━━━━━━━━━━━━━━━━━━━━━━━━━━━━━━━━\u001b[0m \u001b[32m36.4/36.4 MB\u001b[0m \u001b[31m11.2 MB/s\u001b[0m eta \u001b[36m0:00:00\u001b[0m\n",
            "\u001b[?25hBuilding wheels for collected packages: theano\n",
            "  Building wheel for theano (setup.py) ... \u001b[?25l\u001b[?25hdone\n",
            "  Created wheel for theano: filename=Theano-1.0.5-py3-none-any.whl size=2668110 sha256=e05bbce57e536f0311ffc9ada831afb67043567529a32d08e84eebc60eac8a55\n",
            "  Stored in directory: /root/.cache/pip/wheels/d9/e6/7d/2267d21a99e4ab8276f976f293b4ff23f50c9d809f4a216ebb\n",
            "Successfully built theano\n",
            "Installing collected packages: six, numpy, scipy, theano\n",
            "Successfully installed numpy-1.26.2 scipy-1.11.3 six-1.16.0 theano-1.0.5\n"
          ]
        }
      ],
      "source": [
        "!source /content/theanoEnv/bin/activate; pip3 install theano"
      ]
    },
    {
      "cell_type": "code",
      "execution_count": 4,
      "metadata": {
        "colab": {
          "base_uri": "https://localhost:8080/"
        },
        "id": "jR8EYuPgQSCU",
        "outputId": "85bd57da-a998-4658-c4e7-7c11125c28e8"
      },
      "outputs": [
        {
          "output_type": "stream",
          "name": "stdout",
          "text": [
            "Requirement already satisfied: django in /usr/local/lib/python3.10/dist-packages (4.2.7)\n",
            "Requirement already satisfied: asgiref<4,>=3.6.0 in /usr/local/lib/python3.10/dist-packages (from django) (3.7.2)\n",
            "Requirement already satisfied: sqlparse>=0.3.1 in /usr/local/lib/python3.10/dist-packages (from django) (0.4.4)\n",
            "Requirement already satisfied: typing-extensions>=4 in /usr/local/lib/python3.10/dist-packages (from asgiref<4,>=3.6.0->django) (4.5.0)\n"
          ]
        }
      ],
      "source": [
        "!pip install django"
      ]
    },
    {
      "cell_type": "code",
      "execution_count": 5,
      "metadata": {
        "id": "TJqD-rWNQmb3"
      },
      "outputs": [],
      "source": [
        "!django-admin startproject FoodRush ."
      ]
    },
    {
      "cell_type": "code",
      "execution_count": 6,
      "metadata": {
        "id": "R9gLQlqjRhEV"
      },
      "outputs": [],
      "source": [
        "!django-admin startapp counter"
      ]
    },
    {
      "cell_type": "code",
      "source": [
        "import os\n"
      ],
      "metadata": {
        "id": "FFW15xW-YAlE"
      },
      "execution_count": 11,
      "outputs": []
    },
    {
      "cell_type": "code",
      "source": [
        " !pip install django-filter"
      ],
      "metadata": {
        "colab": {
          "base_uri": "https://localhost:8080/"
        },
        "id": "waO9F81gM0g0",
        "outputId": "7fd777ca-2b08-4c36-b65a-2289c70b0f63"
      },
      "execution_count": 15,
      "outputs": [
        {
          "output_type": "stream",
          "name": "stdout",
          "text": [
            "Requirement already satisfied: django-filter in /usr/local/lib/python3.10/dist-packages (23.3)\n",
            "Requirement already satisfied: Django>=3.2 in /usr/local/lib/python3.10/dist-packages (from django-filter) (4.2.7)\n",
            "Requirement already satisfied: asgiref<4,>=3.6.0 in /usr/local/lib/python3.10/dist-packages (from Django>=3.2->django-filter) (3.7.2)\n",
            "Requirement already satisfied: sqlparse>=0.3.1 in /usr/local/lib/python3.10/dist-packages (from Django>=3.2->django-filter) (0.4.4)\n",
            "Requirement already satisfied: typing-extensions>=4 in /usr/local/lib/python3.10/dist-packages (from asgiref<4,>=3.6.0->Django>=3.2->django-filter) (4.5.0)\n"
          ]
        }
      ]
    },
    {
      "cell_type": "code",
      "source": [
        "mkdir templates"
      ],
      "metadata": {
        "id": "Ykh8kdjwO1Kb"
      },
      "execution_count": 9,
      "outputs": []
    },
    {
      "cell_type": "code",
      "source": [
        "mkdir static"
      ],
      "metadata": {
        "id": "GIN9RQI4PeRZ"
      },
      "execution_count": 10,
      "outputs": []
    },
    {
      "cell_type": "code",
      "source": [
        "!python manage.py makemigrations counter\n",
        "!python manage.py migrate"
      ],
      "metadata": {
        "colab": {
          "base_uri": "https://localhost:8080/"
        },
        "id": "gOhbT3C-Y6ax",
        "outputId": "b0d6390e-9d57-44d1-f88e-9aeec7d5c76c"
      },
      "execution_count": 16,
      "outputs": [
        {
          "output_type": "stream",
          "name": "stdout",
          "text": [
            "Traceback (most recent call last):\n",
            "  File \"/content/manage.py\", line 22, in <module>\n",
            "    main()\n",
            "  File \"/content/manage.py\", line 18, in main\n",
            "    execute_from_command_line(sys.argv)\n",
            "  File \"/usr/local/lib/python3.10/dist-packages/django/core/management/__init__.py\", line 442, in execute_from_command_line\n",
            "    utility.execute()\n",
            "  File \"/usr/local/lib/python3.10/dist-packages/django/core/management/__init__.py\", line 382, in execute\n",
            "    settings.INSTALLED_APPS\n",
            "  File \"/usr/local/lib/python3.10/dist-packages/django/conf/__init__.py\", line 102, in __getattr__\n",
            "    self._setup(name)\n",
            "  File \"/usr/local/lib/python3.10/dist-packages/django/conf/__init__.py\", line 89, in _setup\n",
            "    self._wrapped = Settings(settings_module)\n",
            "  File \"/usr/local/lib/python3.10/dist-packages/django/conf/__init__.py\", line 217, in __init__\n",
            "    mod = importlib.import_module(self.SETTINGS_MODULE)\n",
            "  File \"/usr/lib/python3.10/importlib/__init__.py\", line 126, in import_module\n",
            "    return _bootstrap._gcd_import(name[level:], package, level)\n",
            "  File \"<frozen importlib._bootstrap>\", line 1050, in _gcd_import\n",
            "  File \"<frozen importlib._bootstrap>\", line 1027, in _find_and_load\n",
            "  File \"<frozen importlib._bootstrap>\", line 1006, in _find_and_load_unlocked\n",
            "  File \"<frozen importlib._bootstrap>\", line 688, in _load_unlocked\n",
            "  File \"<frozen importlib._bootstrap_external>\", line 883, in exec_module\n",
            "  File \"<frozen importlib._bootstrap>\", line 241, in _call_with_frames_removed\n",
            "  File \"/content/FoodRush/settings.py\", line 60, in <module>\n",
            "    'DIRS':[os.path.join(BASE_DIR,'templates')], #new\n",
            "NameError: name 'os' is not defined\n",
            "Traceback (most recent call last):\n",
            "  File \"/content/manage.py\", line 22, in <module>\n",
            "    main()\n",
            "  File \"/content/manage.py\", line 18, in main\n",
            "    execute_from_command_line(sys.argv)\n",
            "  File \"/usr/local/lib/python3.10/dist-packages/django/core/management/__init__.py\", line 442, in execute_from_command_line\n",
            "    utility.execute()\n",
            "  File \"/usr/local/lib/python3.10/dist-packages/django/core/management/__init__.py\", line 382, in execute\n",
            "    settings.INSTALLED_APPS\n",
            "  File \"/usr/local/lib/python3.10/dist-packages/django/conf/__init__.py\", line 102, in __getattr__\n",
            "    self._setup(name)\n",
            "  File \"/usr/local/lib/python3.10/dist-packages/django/conf/__init__.py\", line 89, in _setup\n",
            "    self._wrapped = Settings(settings_module)\n",
            "  File \"/usr/local/lib/python3.10/dist-packages/django/conf/__init__.py\", line 217, in __init__\n",
            "    mod = importlib.import_module(self.SETTINGS_MODULE)\n",
            "  File \"/usr/lib/python3.10/importlib/__init__.py\", line 126, in import_module\n",
            "    return _bootstrap._gcd_import(name[level:], package, level)\n",
            "  File \"<frozen importlib._bootstrap>\", line 1050, in _gcd_import\n",
            "  File \"<frozen importlib._bootstrap>\", line 1027, in _find_and_load\n",
            "  File \"<frozen importlib._bootstrap>\", line 1006, in _find_and_load_unlocked\n",
            "  File \"<frozen importlib._bootstrap>\", line 688, in _load_unlocked\n",
            "  File \"<frozen importlib._bootstrap_external>\", line 883, in exec_module\n",
            "  File \"<frozen importlib._bootstrap>\", line 241, in _call_with_frames_removed\n",
            "  File \"/content/FoodRush/settings.py\", line 60, in <module>\n",
            "    'DIRS':[os.path.join(BASE_DIR,'templates')], #new\n",
            "NameError: name 'os' is not defined\n"
          ]
        }
      ]
    },
    {
      "cell_type": "code",
      "source": [
        "!python manage.py runserver"
      ],
      "metadata": {
        "colab": {
          "base_uri": "https://localhost:8080/"
        },
        "id": "J5IHlOcdU_F_",
        "outputId": "40258ddb-bdd0-45ad-d1c9-5087694249b1"
      },
      "execution_count": 18,
      "outputs": [
        {
          "output_type": "stream",
          "name": "stdout",
          "text": [
            "Traceback (most recent call last):\n",
            "  File \"/content/manage.py\", line 22, in <module>\n",
            "    main()\n",
            "  File \"/content/manage.py\", line 18, in main\n",
            "    execute_from_command_line(sys.argv)\n",
            "  File \"/usr/local/lib/python3.10/dist-packages/django/core/management/__init__.py\", line 442, in execute_from_command_line\n",
            "    utility.execute()\n",
            "  File \"/usr/local/lib/python3.10/dist-packages/django/core/management/__init__.py\", line 382, in execute\n",
            "    settings.INSTALLED_APPS\n",
            "  File \"/usr/local/lib/python3.10/dist-packages/django/conf/__init__.py\", line 102, in __getattr__\n",
            "    self._setup(name)\n",
            "  File \"/usr/local/lib/python3.10/dist-packages/django/conf/__init__.py\", line 89, in _setup\n",
            "    self._wrapped = Settings(settings_module)\n",
            "  File \"/usr/local/lib/python3.10/dist-packages/django/conf/__init__.py\", line 217, in __init__\n",
            "    mod = importlib.import_module(self.SETTINGS_MODULE)\n",
            "  File \"/usr/lib/python3.10/importlib/__init__.py\", line 126, in import_module\n",
            "    return _bootstrap._gcd_import(name[level:], package, level)\n",
            "  File \"<frozen importlib._bootstrap>\", line 1050, in _gcd_import\n",
            "  File \"<frozen importlib._bootstrap>\", line 1027, in _find_and_load\n",
            "  File \"<frozen importlib._bootstrap>\", line 1006, in _find_and_load_unlocked\n",
            "  File \"<frozen importlib._bootstrap>\", line 688, in _load_unlocked\n",
            "  File \"<frozen importlib._bootstrap_external>\", line 883, in exec_module\n",
            "  File \"<frozen importlib._bootstrap>\", line 241, in _call_with_frames_removed\n",
            "  File \"/content/FoodRush/settings.py\", line 60, in <module>\n",
            "    'DIRS':[os.path.join(BASE_DIR,'templates')], #new\n",
            "NameError: name 'os' is not defined\n"
          ]
        }
      ]
    }
  ],
  "metadata": {
    "colab": {
      "provenance": [],
      "authorship_tag": "ABX9TyNxsCWDkvWmnWpUMuNYUuLz",
      "include_colab_link": true
    },
    "kernelspec": {
      "display_name": "Python 3",
      "name": "python3"
    },
    "language_info": {
      "name": "python"
    }
  },
  "nbformat": 4,
  "nbformat_minor": 0
}